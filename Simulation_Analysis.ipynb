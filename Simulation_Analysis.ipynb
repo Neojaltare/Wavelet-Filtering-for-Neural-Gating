{
 "cells": [
  {
   "cell_type": "code",
   "execution_count": null,
   "metadata": {},
   "outputs": [],
   "source": [
    "import numpy as np\n"
   ]
  },
  {
   "cell_type": "code",
   "execution_count": null,
   "metadata": {},
   "outputs": [],
   "source": [
    "# For the analysis of the simulation:\n",
    "#  gating levels\n",
    "#  noise levels\n",
    "# 50 datasets for each combination of gating level and noise level\n",
    "# You are interested in the following:\n",
    "# what was the original amplitude and gating level that went in \n",
    "#  - At the trial level\n",
    "#  - At the ERP level\n",
    "# How well does the traditional ERP gating perform?\n",
    "#  - At the trial level\n",
    "#  - At the ERP level\n",
    "# How well does the MLR gating perform?\n",
    "#  - At the trial level\n",
    "#  - At the ERP level\n",
    "# How well does the TFR gating perform?\n",
    "#  - At the trial level\n",
    "#  - At the ERP level\n",
    "# \n",
    "# You can quantify all this as:\n",
    "#  - Squared error between the original gating and the extracted gating - per dataset - gives you a distribution per gating and noise level\n",
    "#  - Are these distributions different from 0?\n",
    "\n"
   ]
  },
  {
   "cell_type": "code",
   "execution_count": null,
   "metadata": {},
   "outputs": [],
   "source": []
  },
  {
   "cell_type": "code",
   "execution_count": null,
   "metadata": {},
   "outputs": [],
   "source": []
  },
  {
   "cell_type": "code",
   "execution_count": null,
   "metadata": {},
   "outputs": [],
   "source": []
  }
 ],
 "metadata": {
  "kernelspec": {
   "display_name": "Python 3",
   "language": "python",
   "name": "python3"
  },
  "language_info": {
   "name": "python",
   "version": "3.9.6"
  }
 },
 "nbformat": 4,
 "nbformat_minor": 2
}
